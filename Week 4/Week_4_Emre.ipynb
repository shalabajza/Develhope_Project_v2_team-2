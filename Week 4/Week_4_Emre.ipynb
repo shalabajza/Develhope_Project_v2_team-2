{
 "cells": [
  {
   "cell_type": "code",
   "execution_count": 190,
   "metadata": {},
   "outputs": [],
   "source": [
    "import numpy as np\n",
    "import pandas as pd\n",
    "import matplotlib.pyplot as plt\n",
    "import seaborn as sns\n",
    "from afinn import Afinn"
   ]
  },
  {
   "attachments": {},
   "cell_type": "markdown",
   "metadata": {},
   "source": [
    "### 1- Find if there is a correlation between the price of the apps and the Content Rating (Teen, Everyone, Mature)"
   ]
  },
  {
   "cell_type": "code",
   "execution_count": 191,
   "metadata": {},
   "outputs": [
    {
     "data": {
      "text/html": [
       "<div>\n",
       "<style scoped>\n",
       "    .dataframe tbody tr th:only-of-type {\n",
       "        vertical-align: middle;\n",
       "    }\n",
       "\n",
       "    .dataframe tbody tr th {\n",
       "        vertical-align: top;\n",
       "    }\n",
       "\n",
       "    .dataframe thead th {\n",
       "        text-align: right;\n",
       "    }\n",
       "</style>\n",
       "<table border=\"1\" class=\"dataframe\">\n",
       "  <thead>\n",
       "    <tr style=\"text-align: right;\">\n",
       "      <th></th>\n",
       "      <th>App</th>\n",
       "      <th>Category</th>\n",
       "      <th>Rating</th>\n",
       "      <th>Reviews</th>\n",
       "      <th>Size</th>\n",
       "      <th>Installs</th>\n",
       "      <th>Type</th>\n",
       "      <th>Price</th>\n",
       "      <th>Content_Rating</th>\n",
       "    </tr>\n",
       "  </thead>\n",
       "  <tbody>\n",
       "    <tr>\n",
       "      <th>0</th>\n",
       "      <td>Photo Editor &amp; Candy Camera &amp; Grid &amp; ScrapBook</td>\n",
       "      <td>ART_AND_DESIGN</td>\n",
       "      <td>4.100000</td>\n",
       "      <td>159</td>\n",
       "      <td>19.0</td>\n",
       "      <td>10000</td>\n",
       "      <td>Free</td>\n",
       "      <td>0.0</td>\n",
       "      <td>Everyone</td>\n",
       "    </tr>\n",
       "    <tr>\n",
       "      <th>1</th>\n",
       "      <td>Coloring book moana</td>\n",
       "      <td>ART_AND_DESIGN</td>\n",
       "      <td>3.900000</td>\n",
       "      <td>967</td>\n",
       "      <td>14.0</td>\n",
       "      <td>500000</td>\n",
       "      <td>Free</td>\n",
       "      <td>0.0</td>\n",
       "      <td>Everyone</td>\n",
       "    </tr>\n",
       "    <tr>\n",
       "      <th>2</th>\n",
       "      <td>U Launcher Lite – FREE Live Cool Themes, Hide ...</td>\n",
       "      <td>ART_AND_DESIGN</td>\n",
       "      <td>4.700000</td>\n",
       "      <td>87510</td>\n",
       "      <td>8.7</td>\n",
       "      <td>5000000</td>\n",
       "      <td>Free</td>\n",
       "      <td>0.0</td>\n",
       "      <td>Everyone</td>\n",
       "    </tr>\n",
       "    <tr>\n",
       "      <th>3</th>\n",
       "      <td>Sketch - Draw &amp; Paint</td>\n",
       "      <td>ART_AND_DESIGN</td>\n",
       "      <td>4.500000</td>\n",
       "      <td>215644</td>\n",
       "      <td>25.0</td>\n",
       "      <td>50000000</td>\n",
       "      <td>Free</td>\n",
       "      <td>0.0</td>\n",
       "      <td>Teen</td>\n",
       "    </tr>\n",
       "    <tr>\n",
       "      <th>4</th>\n",
       "      <td>Pixel Draw - Number Art Coloring Book</td>\n",
       "      <td>ART_AND_DESIGN</td>\n",
       "      <td>4.300000</td>\n",
       "      <td>967</td>\n",
       "      <td>2.8</td>\n",
       "      <td>100000</td>\n",
       "      <td>Free</td>\n",
       "      <td>0.0</td>\n",
       "      <td>Everyone</td>\n",
       "    </tr>\n",
       "    <tr>\n",
       "      <th>...</th>\n",
       "      <td>...</td>\n",
       "      <td>...</td>\n",
       "      <td>...</td>\n",
       "      <td>...</td>\n",
       "      <td>...</td>\n",
       "      <td>...</td>\n",
       "      <td>...</td>\n",
       "      <td>...</td>\n",
       "      <td>...</td>\n",
       "    </tr>\n",
       "    <tr>\n",
       "      <th>9655</th>\n",
       "      <td>Sya9a Maroc - FR</td>\n",
       "      <td>FAMILY</td>\n",
       "      <td>4.500000</td>\n",
       "      <td>38</td>\n",
       "      <td>53.0</td>\n",
       "      <td>5000</td>\n",
       "      <td>Free</td>\n",
       "      <td>0.0</td>\n",
       "      <td>Everyone</td>\n",
       "    </tr>\n",
       "    <tr>\n",
       "      <th>9656</th>\n",
       "      <td>Fr. Mike Schmitz Audio Teachings</td>\n",
       "      <td>FAMILY</td>\n",
       "      <td>5.000000</td>\n",
       "      <td>4</td>\n",
       "      <td>3.6</td>\n",
       "      <td>100</td>\n",
       "      <td>Free</td>\n",
       "      <td>0.0</td>\n",
       "      <td>Everyone</td>\n",
       "    </tr>\n",
       "    <tr>\n",
       "      <th>9657</th>\n",
       "      <td>Parkinson Exercices FR</td>\n",
       "      <td>MEDICAL</td>\n",
       "      <td>4.172966</td>\n",
       "      <td>3</td>\n",
       "      <td>9.5</td>\n",
       "      <td>1000</td>\n",
       "      <td>Free</td>\n",
       "      <td>0.0</td>\n",
       "      <td>Everyone</td>\n",
       "    </tr>\n",
       "    <tr>\n",
       "      <th>9658</th>\n",
       "      <td>The SCP Foundation DB fr nn5n</td>\n",
       "      <td>BOOKS_AND_REFERENCE</td>\n",
       "      <td>4.500000</td>\n",
       "      <td>114</td>\n",
       "      <td>Varies with device</td>\n",
       "      <td>1000</td>\n",
       "      <td>Free</td>\n",
       "      <td>0.0</td>\n",
       "      <td>Mature 17+</td>\n",
       "    </tr>\n",
       "    <tr>\n",
       "      <th>9659</th>\n",
       "      <td>iHoroscope - 2018 Daily Horoscope &amp; Astrology</td>\n",
       "      <td>LIFESTYLE</td>\n",
       "      <td>4.500000</td>\n",
       "      <td>398307</td>\n",
       "      <td>19.0</td>\n",
       "      <td>10000000</td>\n",
       "      <td>Free</td>\n",
       "      <td>0.0</td>\n",
       "      <td>Everyone</td>\n",
       "    </tr>\n",
       "  </tbody>\n",
       "</table>\n",
       "<p>9660 rows × 9 columns</p>\n",
       "</div>"
      ],
      "text/plain": [
       "                                                    App             Category  \\\n",
       "0        Photo Editor & Candy Camera & Grid & ScrapBook       ART_AND_DESIGN   \n",
       "1                                   Coloring book moana       ART_AND_DESIGN   \n",
       "2     U Launcher Lite – FREE Live Cool Themes, Hide ...       ART_AND_DESIGN   \n",
       "3                                 Sketch - Draw & Paint       ART_AND_DESIGN   \n",
       "4                 Pixel Draw - Number Art Coloring Book       ART_AND_DESIGN   \n",
       "...                                                 ...                  ...   \n",
       "9655                                   Sya9a Maroc - FR               FAMILY   \n",
       "9656                   Fr. Mike Schmitz Audio Teachings               FAMILY   \n",
       "9657                             Parkinson Exercices FR              MEDICAL   \n",
       "9658                      The SCP Foundation DB fr nn5n  BOOKS_AND_REFERENCE   \n",
       "9659      iHoroscope - 2018 Daily Horoscope & Astrology            LIFESTYLE   \n",
       "\n",
       "        Rating  Reviews                Size  Installs  Type  Price  \\\n",
       "0     4.100000      159                19.0     10000  Free    0.0   \n",
       "1     3.900000      967                14.0    500000  Free    0.0   \n",
       "2     4.700000    87510                 8.7   5000000  Free    0.0   \n",
       "3     4.500000   215644                25.0  50000000  Free    0.0   \n",
       "4     4.300000      967                 2.8    100000  Free    0.0   \n",
       "...        ...      ...                 ...       ...   ...    ...   \n",
       "9655  4.500000       38                53.0      5000  Free    0.0   \n",
       "9656  5.000000        4                 3.6       100  Free    0.0   \n",
       "9657  4.172966        3                 9.5      1000  Free    0.0   \n",
       "9658  4.500000      114  Varies with device      1000  Free    0.0   \n",
       "9659  4.500000   398307                19.0  10000000  Free    0.0   \n",
       "\n",
       "     Content_Rating  \n",
       "0          Everyone  \n",
       "1          Everyone  \n",
       "2          Everyone  \n",
       "3              Teen  \n",
       "4          Everyone  \n",
       "...             ...  \n",
       "9655       Everyone  \n",
       "9656       Everyone  \n",
       "9657       Everyone  \n",
       "9658     Mature 17+  \n",
       "9659       Everyone  \n",
       "\n",
       "[9660 rows x 9 columns]"
      ]
     },
     "execution_count": 191,
     "metadata": {},
     "output_type": "execute_result"
    }
   ],
   "source": [
    "df = pd.read_csv(\"../Week 1/exported_data/googleplaystore_clean.csv\")\n",
    "df"
   ]
  },
  {
   "cell_type": "code",
   "execution_count": 192,
   "metadata": {},
   "outputs": [
    {
     "data": {
      "image/png": "[encoded data removed]",
      "text/plain": [
       "<Figure size 640x480 with 1 Axes>"
      ]
     },
     "metadata": {},
     "output_type": "display_data"
    }
   ],
   "source": [
    "sns.scatterplot(data=df, x=\"Content_Rating\", y=\"Price\")\n",
    "plt.show()"
   ]
  },
  {
   "cell_type": "code",
   "execution_count": 193,
   "metadata": {},
   "outputs": [
    {
     "data": {
      "text/plain": [
       "-0.016273897860306672"
      ]
     },
     "execution_count": 193,
     "metadata": {},
     "output_type": "execute_result"
    }
   ],
   "source": [
    "labels, categories = pd.factorize(df[\"Content_Rating\"])\n",
    "df[\"labels\"] = labels\n",
    "df[\"Price\"].corr(df[\"labels\"])"
   ]
  },
  {
   "attachments": {},
   "cell_type": "markdown",
   "metadata": {},
   "source": [
    "### 2- Find the sentiment scores of all apps using np files and \"afinn\" lib"
   ]
  },
  {
   "cell_type": "code",
   "execution_count": 194,
   "metadata": {},
   "outputs": [
    {
     "data": {
      "text/plain": [
       "Bowmasters                        312\n",
       "Helix Jump                        273\n",
       "Angry Birds Classic               273\n",
       "Calorie Counter - MyFitnessPal    254\n",
       "Duolingo: Learn Languages Free    240\n",
       "                                 ... \n",
       "Draw a Stickman: EPIC 2             1\n",
       "HD Camera                           1\n",
       "Draw In                             1\n",
       "Draw A Stickman                     1\n",
       "Best Fiends - Free Puzzle Game      1\n",
       "Name: App, Length: 865, dtype: int64"
      ]
     },
     "execution_count": 194,
     "metadata": {},
     "output_type": "execute_result"
    }
   ],
   "source": [
    "df_2 = pd.read_csv(\"../Week 0 (Original database)//googleplaystore_user_reviews.csv\")\n",
    "df_2 = df_2.dropna()\n",
    "df_2 = df_2.reset_index(drop=True)\n",
    "df_2 = df_2.drop([\"Sentiment\", \"Sentiment_Polarity\", \"Sentiment_Subjectivity\"], axis=1)\n",
    "df_2.App.value_counts()"
   ]
  },
  {
   "cell_type": "code",
   "execution_count": 195,
   "metadata": {},
   "outputs": [],
   "source": [
    "scorer = lambda x: afinn.score(x)\n",
    "df_2[\"Afinn_Scores\"] = df_2.Translated_Review.apply(scorer)"
   ]
  },
  {
   "cell_type": "code",
   "execution_count": 196,
   "metadata": {},
   "outputs": [],
   "source": [
    "n_df = pd.read_excel(\"../n.xlsx\", header=None)\n",
    "p_df = pd.read_excel(\"../p.xlsx\", header=None)\n",
    "n_list = n_df[0].to_list()\n",
    "p_list = p_df[0].to_list()\n",
    "def np_scorer(review):\n",
    "    review_list = review.split(\" \")\n",
    "    np_score = 0\n",
    "    for word in review_list:\n",
    "        if word.lower() in n_list:\n",
    "            np_score -= 1\n",
    "        elif word.lower() in p_list:\n",
    "            np_score += 1\n",
    "        else:\n",
    "            np_score = np_score\n",
    "    return np_score\n",
    "df_2[\"NP_Scores\"] = df_2.Translated_Review.apply(np_scorer)"
   ]
  },
  {
   "cell_type": "code",
   "execution_count": 197,
   "metadata": {},
   "outputs": [
    {
     "data": {
      "text/html": [
       "<div>\n",
       "<style scoped>\n",
       "    .dataframe tbody tr th:only-of-type {\n",
       "        vertical-align: middle;\n",
       "    }\n",
       "\n",
       "    .dataframe tbody tr th {\n",
       "        vertical-align: top;\n",
       "    }\n",
       "\n",
       "    .dataframe thead th {\n",
       "        text-align: right;\n",
       "    }\n",
       "</style>\n",
       "<table border=\"1\" class=\"dataframe\">\n",
       "  <thead>\n",
       "    <tr style=\"text-align: right;\">\n",
       "      <th></th>\n",
       "      <th>App</th>\n",
       "      <th>Translated_Review</th>\n",
       "      <th>Afinn_Scores</th>\n",
       "      <th>NP_Scores</th>\n",
       "    </tr>\n",
       "  </thead>\n",
       "  <tbody>\n",
       "    <tr>\n",
       "      <th>0</th>\n",
       "      <td>10 Best Foods for You</td>\n",
       "      <td>I like eat delicious food. That's I'm cooking ...</td>\n",
       "      <td>13.0</td>\n",
       "      <td>3</td>\n",
       "    </tr>\n",
       "    <tr>\n",
       "      <th>1</th>\n",
       "      <td>10 Best Foods for You</td>\n",
       "      <td>This help eating healthy exercise regular basis</td>\n",
       "      <td>4.0</td>\n",
       "      <td>1</td>\n",
       "    </tr>\n",
       "    <tr>\n",
       "      <th>2</th>\n",
       "      <td>10 Best Foods for You</td>\n",
       "      <td>Works great especially going grocery store</td>\n",
       "      <td>3.0</td>\n",
       "      <td>2</td>\n",
       "    </tr>\n",
       "    <tr>\n",
       "      <th>3</th>\n",
       "      <td>10 Best Foods for You</td>\n",
       "      <td>Best idea us</td>\n",
       "      <td>3.0</td>\n",
       "      <td>1</td>\n",
       "    </tr>\n",
       "    <tr>\n",
       "      <th>4</th>\n",
       "      <td>10 Best Foods for You</td>\n",
       "      <td>Best way</td>\n",
       "      <td>3.0</td>\n",
       "      <td>1</td>\n",
       "    </tr>\n",
       "    <tr>\n",
       "      <th>...</th>\n",
       "      <td>...</td>\n",
       "      <td>...</td>\n",
       "      <td>...</td>\n",
       "      <td>...</td>\n",
       "    </tr>\n",
       "    <tr>\n",
       "      <th>37422</th>\n",
       "      <td>Housing-Real Estate &amp; Property</td>\n",
       "      <td>Most ads older many agents ..not much owner po...</td>\n",
       "      <td>-3.0</td>\n",
       "      <td>-1</td>\n",
       "    </tr>\n",
       "    <tr>\n",
       "      <th>37423</th>\n",
       "      <td>Housing-Real Estate &amp; Property</td>\n",
       "      <td>If photos posted portal load, fit purpose. I'm...</td>\n",
       "      <td>6.0</td>\n",
       "      <td>0</td>\n",
       "    </tr>\n",
       "    <tr>\n",
       "      <th>37424</th>\n",
       "      <td>Housing-Real Estate &amp; Property</td>\n",
       "      <td>Dumb app, I wanted post property rent give opt...</td>\n",
       "      <td>-4.0</td>\n",
       "      <td>-2</td>\n",
       "    </tr>\n",
       "    <tr>\n",
       "      <th>37425</th>\n",
       "      <td>Housing-Real Estate &amp; Property</td>\n",
       "      <td>I property business got link SMS happy perform...</td>\n",
       "      <td>5.0</td>\n",
       "      <td>1</td>\n",
       "    </tr>\n",
       "    <tr>\n",
       "      <th>37426</th>\n",
       "      <td>Housing-Real Estate &amp; Property</td>\n",
       "      <td>Useless app, I searched flats kondapur, Hydera...</td>\n",
       "      <td>-2.0</td>\n",
       "      <td>-1</td>\n",
       "    </tr>\n",
       "  </tbody>\n",
       "</table>\n",
       "<p>37427 rows × 4 columns</p>\n",
       "</div>"
      ],
      "text/plain": [
       "                                  App  \\\n",
       "0               10 Best Foods for You   \n",
       "1               10 Best Foods for You   \n",
       "2               10 Best Foods for You   \n",
       "3               10 Best Foods for You   \n",
       "4               10 Best Foods for You   \n",
       "...                               ...   \n",
       "37422  Housing-Real Estate & Property   \n",
       "37423  Housing-Real Estate & Property   \n",
       "37424  Housing-Real Estate & Property   \n",
       "37425  Housing-Real Estate & Property   \n",
       "37426  Housing-Real Estate & Property   \n",
       "\n",
       "                                       Translated_Review  Afinn_Scores  \\\n",
       "0      I like eat delicious food. That's I'm cooking ...          13.0   \n",
       "1        This help eating healthy exercise regular basis           4.0   \n",
       "2             Works great especially going grocery store           3.0   \n",
       "3                                           Best idea us           3.0   \n",
       "4                                               Best way           3.0   \n",
       "...                                                  ...           ...   \n",
       "37422  Most ads older many agents ..not much owner po...          -3.0   \n",
       "37423  If photos posted portal load, fit purpose. I'm...           6.0   \n",
       "37424  Dumb app, I wanted post property rent give opt...          -4.0   \n",
       "37425  I property business got link SMS happy perform...           5.0   \n",
       "37426  Useless app, I searched flats kondapur, Hydera...          -2.0   \n",
       "\n",
       "       NP_Scores  \n",
       "0              3  \n",
       "1              1  \n",
       "2              2  \n",
       "3              1  \n",
       "4              1  \n",
       "...          ...  \n",
       "37422         -1  \n",
       "37423          0  \n",
       "37424         -2  \n",
       "37425          1  \n",
       "37426         -1  \n",
       "\n",
       "[37427 rows x 4 columns]"
      ]
     },
     "execution_count": 197,
     "metadata": {},
     "output_type": "execute_result"
    }
   ],
   "source": [
    "df_2"
   ]
  },
  {
   "attachments": {},
   "cell_type": "markdown",
   "metadata": {},
   "source": [
    "### 3- List the top and bottom 5 apps and their categories by sentiment scores for paid apps only"
   ]
  },
  {
   "cell_type": "code",
   "execution_count": 198,
   "metadata": {},
   "outputs": [
    {
     "name": "stderr",
     "output_type": "stream",
     "text": [
      "C:\\Users\\Emre Can\\AppData\\Local\\Temp\\ipykernel_7164\\522992130.py:1: FutureWarning: Indexing with multiple keys (implicitly converted to a tuple of keys) will be deprecated, use a list instead.\n",
      "  df_2.groupby(\"App\")[\"Afinn_Scores\", \"NP_Scores\"].sum().sort_values(\"Afinn_Scores\", ascending=False)\n"
     ]
    },
    {
     "data": {
      "text/html": [
       "<div>\n",
       "<style scoped>\n",
       "    .dataframe tbody tr th:only-of-type {\n",
       "        vertical-align: middle;\n",
       "    }\n",
       "\n",
       "    .dataframe tbody tr th {\n",
       "        vertical-align: top;\n",
       "    }\n",
       "\n",
       "    .dataframe thead th {\n",
       "        text-align: right;\n",
       "    }\n",
       "</style>\n",
       "<table border=\"1\" class=\"dataframe\">\n",
       "  <thead>\n",
       "    <tr style=\"text-align: right;\">\n",
       "      <th></th>\n",
       "      <th>Afinn_Scores</th>\n",
       "      <th>NP_Scores</th>\n",
       "    </tr>\n",
       "    <tr>\n",
       "      <th>App</th>\n",
       "      <th></th>\n",
       "      <th></th>\n",
       "    </tr>\n",
       "  </thead>\n",
       "  <tbody>\n",
       "    <tr>\n",
       "      <th>Helix Jump</th>\n",
       "      <td>1546.0</td>\n",
       "      <td>456</td>\n",
       "    </tr>\n",
       "    <tr>\n",
       "      <th>Duolingo: Learn Languages Free</th>\n",
       "      <td>1504.0</td>\n",
       "      <td>505</td>\n",
       "    </tr>\n",
       "    <tr>\n",
       "      <th>Calorie Counter - Macros</th>\n",
       "      <td>1058.0</td>\n",
       "      <td>340</td>\n",
       "    </tr>\n",
       "    <tr>\n",
       "      <th>Alto's Adventure</th>\n",
       "      <td>1005.0</td>\n",
       "      <td>155</td>\n",
       "    </tr>\n",
       "    <tr>\n",
       "      <th>DRAGON BALL LEGENDS</th>\n",
       "      <td>879.0</td>\n",
       "      <td>192</td>\n",
       "    </tr>\n",
       "    <tr>\n",
       "      <th>...</th>\n",
       "      <td>...</td>\n",
       "      <td>...</td>\n",
       "    </tr>\n",
       "    <tr>\n",
       "      <th>Cricket Visual Voicemail</th>\n",
       "      <td>-58.0</td>\n",
       "      <td>-10</td>\n",
       "    </tr>\n",
       "    <tr>\n",
       "      <th>BestCam Selfie-selfie, beauty camera, photo editor</th>\n",
       "      <td>-65.0</td>\n",
       "      <td>-30</td>\n",
       "    </tr>\n",
       "    <tr>\n",
       "      <th>HTC Social Plugin - Facebook</th>\n",
       "      <td>-85.0</td>\n",
       "      <td>-25</td>\n",
       "    </tr>\n",
       "    <tr>\n",
       "      <th>Fox News – Breaking News, Live Video &amp; News Alerts</th>\n",
       "      <td>-113.0</td>\n",
       "      <td>-34</td>\n",
       "    </tr>\n",
       "    <tr>\n",
       "      <th>Facebook</th>\n",
       "      <td>-202.0</td>\n",
       "      <td>-83</td>\n",
       "    </tr>\n",
       "  </tbody>\n",
       "</table>\n",
       "<p>865 rows × 2 columns</p>\n",
       "</div>"
      ],
      "text/plain": [
       "                                                    Afinn_Scores  NP_Scores\n",
       "App                                                                        \n",
       "Helix Jump                                                1546.0        456\n",
       "Duolingo: Learn Languages Free                            1504.0        505\n",
       "Calorie Counter - Macros                                  1058.0        340\n",
       "Alto's Adventure                                          1005.0        155\n",
       "DRAGON BALL LEGENDS                                        879.0        192\n",
       "...                                                          ...        ...\n",
       "Cricket Visual Voicemail                                   -58.0        -10\n",
       "BestCam Selfie-selfie, beauty camera, photo editor         -65.0        -30\n",
       "HTC Social Plugin - Facebook                               -85.0        -25\n",
       "Fox News – Breaking News, Live Video & News Alerts        -113.0        -34\n",
       "Facebook                                                  -202.0        -83\n",
       "\n",
       "[865 rows x 2 columns]"
      ]
     },
     "execution_count": 198,
     "metadata": {},
     "output_type": "execute_result"
    }
   ],
   "source": [
    "df_2.groupby(\"App\")[\"Afinn_Scores\", \"NP_Scores\"].sum().sort_values(\"Afinn_Scores\", ascending=False)"
   ]
  },
  {
   "cell_type": "code",
   "execution_count": 199,
   "metadata": {},
   "outputs": [
    {
     "data": {
      "text/plain": [
       "App                           Category\n",
       "Dr. Panda & Toto's Treehouse  FAMILY      464.0\n",
       "Essential Anatomy 3           MEDICAL     404.0\n",
       "Diabetes & Diet Tracker       MEDICAL     364.0\n",
       "Golfshot Plus: Golf GPS       SPORTS      171.0\n",
       "Farming Simulator 18          GAME        160.0\n",
       "Name: Afinn_Scores, dtype: float64"
      ]
     },
     "execution_count": 199,
     "metadata": {},
     "output_type": "execute_result"
    }
   ],
   "source": [
    "apps_with_reviews = df.merge(df_2, how=\"left\", on=\"App\")\n",
    "best_paid_apps = apps_with_reviews[apps_with_reviews[\"Type\"] == \"Paid\"].groupby([\"App\", \"Category\"])[\"Afinn_Scores\"].sum().sort_values(ascending=False).head()\n",
    "best_paid_apps"
   ]
  },
  {
   "cell_type": "code",
   "execution_count": 200,
   "metadata": {},
   "outputs": [
    {
     "data": {
      "text/plain": [
       "App                                             Category           \n",
       "Call of Duty:Black Ops Zombies                  GAME                  -1.0\n",
       "10 WPM Amateur ham radio CW Morse code trainer  COMMUNICATION          0.0\n",
       "O Céu e o Inferno                               BOOKS_AND_REFERENCE    0.0\n",
       "O'Route Orienteering                            SPORTS                 0.0\n",
       "OMEGA Black UI Theme - CM 12+                   PERSONALIZATION        0.0\n",
       "Name: Afinn_Scores, dtype: float64"
      ]
     },
     "execution_count": 200,
     "metadata": {},
     "output_type": "execute_result"
    }
   ],
   "source": [
    "worst_paid_apps = apps_with_reviews[apps_with_reviews[\"Type\"] == \"Paid\"].groupby([\"App\", \"Category\"])[\"Afinn_Scores\"].sum().sort_values(ascending=True).head()\n",
    "worst_paid_apps"
   ]
  },
  {
   "attachments": {},
   "cell_type": "markdown",
   "metadata": {},
   "source": [
    "### 4- What is the best category according to sentiment values?"
   ]
  },
  {
   "cell_type": "code",
   "execution_count": 201,
   "metadata": {},
   "outputs": [
    {
     "data": {
      "text/plain": [
       "Category\n",
       "GAME    22370.0\n",
       "Name: Afinn_Scores, dtype: float64"
      ]
     },
     "execution_count": 201,
     "metadata": {},
     "output_type": "execute_result"
    }
   ],
   "source": [
    "best_category = apps_with_reviews.groupby(\"Category\")[\"Afinn_Scores\"].sum().sort_values(ascending=False).head(1)\n",
    "best_category"
   ]
  }
 ],
 "metadata": {
  "kernelspec": {
   "display_name": "base",
   "language": "python",
   "name": "python3"
  },
  "language_info": {
   "codemirror_mode": {
    "name": "ipython",
    "version": 3
   },
   "file_extension": ".py",
   "mimetype": "text/x-python",
   "name": "python",
   "nbconvert_exporter": "python",
   "pygments_lexer": "ipython3",
   "version": "3.9.13"
  },
  "orig_nbformat": 4
 },
 "nbformat": 4,
 "nbformat_minor": 2
}
